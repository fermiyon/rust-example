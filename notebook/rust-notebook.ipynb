{
 "cells": [
  {
   "cell_type": "code",
   "execution_count": null,
   "metadata": {
    "vscode": {
     "languageId": "rust"
    }
   },
   "outputs": [],
   "source": [
    "// Rust setup for jupyter\n",
    "// cargo install --locked evcxr_jupyter\n",
    "// evcxr_jupyter --install"
   ]
  },
  {
   "cell_type": "markdown",
   "metadata": {},
   "source": [
    "## Control FLow"
   ]
  },
  {
   "cell_type": "code",
   "execution_count": 12,
   "metadata": {
    "vscode": {
     "languageId": "rust"
    }
   },
   "outputs": [
    {
     "name": "stdout",
     "output_type": "stream",
     "text": [
      "condition was true\n"
     ]
    },
    {
     "data": {
      "text/plain": [
       "()"
      ]
     },
     "execution_count": 12,
     "metadata": {},
     "output_type": "execute_result"
    }
   ],
   "source": [
    "// Basic control flow example\n",
    "let num = 5;\n",
    "if num < 6 {\n",
    "    println!(\"condition was true\")\n",
    "}"
   ]
  },
  {
   "cell_type": "markdown",
   "metadata": {},
   "source": [
    "## Loop"
   ]
  },
  {
   "cell_type": "code",
   "execution_count": 14,
   "metadata": {
    "vscode": {
     "languageId": "rust"
    }
   },
   "outputs": [
    {
     "name": "stdout",
     "output_type": "stream",
     "text": [
      "x = 1\n",
      "x = 2\n",
      "x = 3\n",
      "x = 4\n"
     ]
    },
    {
     "data": {
      "text/plain": [
       "()"
      ]
     },
     "execution_count": 14,
     "metadata": {},
     "output_type": "execute_result"
    }
   ],
   "source": [
    "let mut x = 1;\n",
    "// continue looping until x> 5\n",
    "while x < 5 {\n",
    "    println!(\"x = {}\", x);\n",
    "    x += 1;\n",
    "}"
   ]
  },
  {
   "cell_type": "code",
   "execution_count": 15,
   "metadata": {
    "vscode": {
     "languageId": "rust"
    }
   },
   "outputs": [
    {
     "name": "stdout",
     "output_type": "stream",
     "text": [
      "x = 1\n",
      "x = 2\n",
      "x = 3\n",
      "x = 4\n",
      "x = 5\n"
     ]
    },
    {
     "data": {
      "text/plain": [
       "()"
      ]
     },
     "execution_count": 15,
     "metadata": {},
     "output_type": "execute_result"
    }
   ],
   "source": [
    "let mut x = 1;\n",
    "// continue looping until x> 5 with loop scope\n",
    "// Python equilievant of while True\n",
    "loop {\n",
    "    println!(\"x = {}\", x);\n",
    "    x += 1; // Shadowing - we are changing x value\n",
    "    if x > 5 {\n",
    "        break;\n",
    "    }\n",
    "}"
   ]
  },
  {
   "cell_type": "code",
   "execution_count": 12,
   "metadata": {
    "vscode": {
     "languageId": "rust"
    }
   },
   "outputs": [
    {
     "name": "stdout",
     "output_type": "stream",
     "text": [
      "i = 1\n",
      "i = 2\n",
      "i = 3\n",
      "i = 4\n",
      "i = 6\n",
      "i = 7\n",
      "i = 8\n",
      "i = 9\n"
     ]
    },
    {
     "data": {
      "text/plain": [
       "()"
      ]
     },
     "execution_count": 12,
     "metadata": {},
     "output_type": "execute_result"
    }
   ],
   "source": [
    "// the for loop using a range\n",
    "\n",
    "for i in 1..10 {\n",
    "    if i == 5 {\n",
    "        continue;\n",
    "    }\n",
    "\n",
    "    println!(\"i = {}\", i);\n",
    "}\n"
   ]
  },
  {
   "cell_type": "code",
   "execution_count": 11,
   "metadata": {
    "vscode": {
     "languageId": "rust"
    }
   },
   "outputs": [
    {
     "name": "stdout",
     "output_type": "stream",
     "text": [
      "i = 1\n",
      "i = 2\n",
      "i = 3\n",
      "i = 4\n",
      "i = 6\n",
      "i = 7\n",
      "i = 8\n",
      "i = 9\n",
      "i = 10\n"
     ]
    },
    {
     "data": {
      "text/plain": [
       "()"
      ]
     },
     "execution_count": 11,
     "metadata": {},
     "output_type": "execute_result"
    }
   ],
   "source": [
    "// the for loop using a range\n",
    "\n",
    "for i in 1..=10 {\n",
    "    if i == 5 {\n",
    "        continue;\n",
    "    }\n",
    "\n",
    "    println!(\"i = {}\", i);\n",
    "}\n"
   ]
  },
  {
   "cell_type": "code",
   "execution_count": 4,
   "metadata": {
    "vscode": {
     "languageId": "rust"
    }
   },
   "outputs": [
    {
     "name": "stdout",
     "output_type": "stream",
     "text": [
      "3\n",
      "2\n",
      "1\n"
     ]
    },
    {
     "data": {
      "text/plain": [
       "()"
      ]
     },
     "execution_count": 4,
     "metadata": {},
     "output_type": "execute_result"
    }
   ],
   "source": [
    "// the for loop using a range reversed\n",
    "\n",
    "for number in (1..4).rev() {\n",
    "    println!(\"{}\", number);\n",
    "}"
   ]
  },
  {
   "cell_type": "code",
   "execution_count": 7,
   "metadata": {
    "vscode": {
     "languageId": "rust"
    }
   },
   "outputs": [
    {
     "name": "stdout",
     "output_type": "stream",
     "text": [
      "1\n",
      "2\n",
      "3\n",
      "4\n",
      "5\n"
     ]
    },
    {
     "data": {
      "text/plain": [
       "()"
      ]
     },
     "execution_count": 7,
     "metadata": {},
     "output_type": "execute_result"
    }
   ],
   "source": [
    "let numbers = vec![1,2,3,4,5];\n",
    "for num in numbers{\n",
    "    //Print\n",
    "    println!(\"{}\",num)\n",
    "}"
   ]
  },
  {
   "cell_type": "code",
   "execution_count": 17,
   "metadata": {
    "vscode": {
     "languageId": "rust"
    }
   },
   "outputs": [
    {
     "name": "stdout",
     "output_type": "stream",
     "text": [
      "1\n",
      "3\n",
      "5\n"
     ]
    },
    {
     "data": {
      "text/plain": [
       "()"
      ]
     },
     "execution_count": 17,
     "metadata": {},
     "output_type": "execute_result"
    }
   ],
   "source": [
    "// For loop with range break and continue example\n",
    "\n",
    "for i in 1..=10 {\n",
    "    // Exit loop\n",
    "    if i == 7 {\n",
    "        break;\n",
    "    }\n",
    "    // Skip even numbers\n",
    "    if i % 2 == 0 {\n",
    "        continue;\n",
    "    }\n",
    "    println!(\"{}\", i);\n",
    "}"
   ]
  },
  {
   "cell_type": "markdown",
   "metadata": {},
   "source": [
    "## Conditional Statements - Pattern matching"
   ]
  },
  {
   "cell_type": "code",
   "execution_count": 19,
   "metadata": {
    "vscode": {
     "languageId": "rust"
    }
   },
   "outputs": [
    {
     "name": "stdout",
     "output_type": "stream",
     "text": [
      "5\n"
     ]
    },
    {
     "data": {
      "text/plain": [
       "()"
      ]
     },
     "execution_count": 19,
     "metadata": {},
     "output_type": "execute_result"
    }
   ],
   "source": [
    "let maybe_number = Some(5);\n",
    "if let Some(number) = maybe_number {\n",
    "    println!(\"{}\", number);\n",
    "}"
   ]
  },
  {
   "cell_type": "code",
   "execution_count": 33,
   "metadata": {
    "vscode": {
     "languageId": "rust"
    }
   },
   "outputs": [
    {
     "name": "stdout",
     "output_type": "stream",
     "text": [
      "It is a number: 5\n"
     ]
    },
    {
     "data": {
      "text/plain": [
       "()"
      ]
     },
     "execution_count": 33,
     "metadata": {},
     "output_type": "execute_result"
    }
   ],
   "source": [
    "let maybe_number = Some(5);\n",
    "\n",
    "match maybe_number {\n",
    "    Some(number) => println!(\"It is a number: {}\", number),\n",
    "    None => println!(\"It is None\"),\n",
    "}"
   ]
  },
  {
   "cell_type": "code",
   "execution_count": 20,
   "metadata": {
    "vscode": {
     "languageId": "rust"
    }
   },
   "outputs": [
    {
     "name": "stdout",
     "output_type": "stream",
     "text": [
      "It is a number: 65\n"
     ]
    },
    {
     "data": {
      "text/plain": [
       "()"
      ]
     },
     "execution_count": 20,
     "metadata": {},
     "output_type": "execute_result"
    }
   ],
   "source": [
    "let maybe_number = Some(65);\n",
    "\n",
    "match maybe_number {\n",
    "    Some(5) => println!(\"It is 5\"),\n",
    "    Some(number) => println!(\"It is a number: {}\", number),\n",
    "    None => println!(\"It is None\"),\n",
    "}"
   ]
  },
  {
   "cell_type": "code",
   "execution_count": 27,
   "metadata": {
    "vscode": {
     "languageId": "rust"
    }
   },
   "outputs": [
    {
     "name": "stdout",
     "output_type": "stream",
     "text": [
      "Hi! Nice to meet you\n"
     ]
    },
    {
     "data": {
      "text/plain": [
       "()"
      ]
     },
     "execution_count": 27,
     "metadata": {},
     "output_type": "execute_result"
    }
   ],
   "source": [
    "let name = \"Hello\";\n",
    "\n",
    "// use of match expression to pattern match against variable \"name\"\n",
    "match name {\n",
    "    \"Hello\" => println!(\"Hi! Nice to meet you\"),\n",
    "    \"Good Bye\" => println!(\"Sorry to see you go\"),\n",
    "    _ => println!(\"Nothing\"),\n",
    "}"
   ]
  },
  {
   "cell_type": "markdown",
   "metadata": {},
   "source": [
    "## Functions"
   ]
  },
  {
   "cell_type": "markdown",
   "metadata": {},
   "source": [
    "### Unit function"
   ]
  },
  {
   "cell_type": "code",
   "execution_count": 32,
   "metadata": {
    "vscode": {
     "languageId": "rust"
    }
   },
   "outputs": [
    {
     "name": "stdout",
     "output_type": "stream",
     "text": [
      "The sum is even.\n"
     ]
    }
   ],
   "source": [
    "// a unit function that doesn't return anything\n",
    "fn print_sum(numbers: &[i32]) {\n",
    "    let sum:i32 = numbers.iter().sum(); // Calculate the sum of elements in slice\n",
    "    if sum % 2 == 0 {               // Check if sum is even\n",
    "        println!(\"The sum is even.\");\n",
    "    } else {\n",
    "        println!(\"The sum is odd.\");\n",
    "    }\n",
    "}\n",
    "\n",
    "let numbers = [1, 2, 3];      // Define a slice of integers\n",
    "print_sum(&numbers);          // Call the unit function with the slice as an argument"
   ]
  },
  {
   "cell_type": "markdown",
   "metadata": {},
   "source": [
    "### Panic"
   ]
  },
  {
   "cell_type": "code",
   "execution_count": 33,
   "metadata": {
    "vscode": {
     "languageId": "rust"
    }
   },
   "outputs": [
    {
     "name": "stderr",
     "output_type": "stream",
     "text": [
      "thread '<unnamed>' panicked at src/lib.rs:25:13:\n",
      "Negative number found at index 3\n",
      "stack backtrace:\n",
      "   0: _rust_begin_unwind\n",
      "   1: core::panicking::panic_fmt\n",
      "   2: _run_user_code_24\n",
      "   3: evcxr::runtime::Runtime::run_loop\n",
      "   4: evcxr::runtime::runtime_hook\n",
      "   5: evcxr_jupyter::main\n"
     ]
    },
    {
     "name": "stderr",
     "output_type": "stream",
     "text": [
      "note: Some details are omitted, run with `RUST_BACKTRACE=full` for a verbose backtrace.\n"
     ]
    }
   ],
   "source": [
    "fn process_numbers(slice: &[i32]) {\n",
    "    for (index, number) in slice.iter().enumerate() {\n",
    "        if *number < 0 {\n",
    "            panic!(\"Negative number found at index {}\", index); // Stop execution and show error message\n",
    "        }\n",
    "    }\n",
    "}\n",
    "\n",
    "let numbers = [1, 2, 3, -5];   // Include a negative number to trigger the panic\n",
    "process_numbers(&numbers);"
   ]
  },
  {
   "cell_type": "markdown",
   "metadata": {},
   "source": [
    "### Function arguments"
   ]
  },
  {
   "cell_type": "code",
   "execution_count": 34,
   "metadata": {
    "vscode": {
     "languageId": "rust"
    }
   },
   "outputs": [
    {
     "name": "stdout",
     "output_type": "stream",
     "text": [
      "The sum is 15\n"
     ]
    }
   ],
   "source": [
    "fn sum(numbers: &[i32]) -> i32 {\n",
    "    let mut result = 0;\n",
    "    for number in numbers {\n",
    "        result += number;\n",
    "    }\n",
    "    result\n",
    "}\n",
    "\n",
    "let numbers = [1, 2, 3, 4, 5];\n",
    "let result = sum(&numbers);\n",
    "println!(\"The sum is {}\", result);"
   ]
  },
  {
   "cell_type": "markdown",
   "metadata": {},
   "source": [
    "### Borrowing"
   ]
  },
  {
   "cell_type": "markdown",
   "metadata": {},
   "source": [
    "Borrowing is the mechanism by which Rust allows you to lend ownership of a variable to a function \n",
    "\n",
    "or another part of your program without actually transferring ownership of the variable. \n",
    "\n",
    "When you borrow a variable, you're essentially saying \n",
    "\n",
    "\"I want to use this variable for a little while, but I promise I won't modify it.\""
   ]
  },
  {
   "cell_type": "markdown",
   "metadata": {},
   "source": [
    "Borrowing is a key concept in Rust because it allows you to write code that is both safe and efficient. \n",
    "By lending ownership of a variable instead of transferring it, Rust ensures that only \n",
    "one part of your program can modify the variable at a time, which helps prevent \n",
    "bugs and makes it easier to reason about your code."
   ]
  },
  {
   "cell_type": "code",
   "execution_count": 36,
   "metadata": {
    "vscode": {
     "languageId": "rust"
    }
   },
   "outputs": [
    {
     "name": "stdout",
     "output_type": "stream",
     "text": [
      "10\n",
      "Hello, world!\n",
      "[1, 2, 3, 4, 5, 10]\n"
     ]
    }
   ],
   "source": [
    "fn own_vec(mut vector: Vec<i32>) {\n",
    "    vector.push(10);\n",
    "    println!(\"{:?}\", vector);\n",
    "}\n",
    "\n",
    "fn own_integer(x: i32) {\n",
    "    x + 1;\n",
    "}\n",
    "\n",
    "fn own_string(s: String) {\n",
    "    println!(\"{}\", s);\n",
    "}\n",
    "\n",
    "let mut my_vec = vec![1, 2, 3, 4, 5];\n",
    "let my_int = 10;\n",
    "let my_string = String::from(\"Hello, world!\");\n",
    "\n",
    "// this compiles no problem!\n",
    "own_integer(my_int);\n",
    "println!(\"{}\", my_int);\n",
    "\n",
    "own_string(my_string); // take ownership of my_string\n",
    "// this is using my_string which has also moved and is invalid\n",
    "//println!(\"{:?}\", my_string); // this will not compile!\n",
    "\n",
    "own_vec(my_vec);\n",
    "// but this is using my_vec which was borrowed (moved) and yet is now invalid\n",
    "//println!(\"{:?}\", my_vec); // this will not compile!"
   ]
  },
  {
   "cell_type": "markdown",
   "metadata": {},
   "source": [
    "## Error-handling"
   ]
  },
  {
   "cell_type": "code",
   "execution_count": 39,
   "metadata": {
    "vscode": {
     "languageId": "rust"
    }
   },
   "outputs": [
    {
     "name": "stderr",
     "output_type": "stream",
     "text": [
      "thread '<unnamed>' panicked at src/lib.rs:163:17:\n",
      "File not found: No such file or directory (os error 2)\n",
      "stack backtrace:\n",
      "   0: _rust_begin_unwind\n",
      "   1: core::panicking::panic_fmt\n",
      "   2: <unknown>\n",
      "   3: <unknown>\n",
      "   4: evcxr::runtime::Runtime::run_loop\n",
      "   5: evcxr::runtime::runtime_hook\n",
      "   6: evcxr_jupyter::main\n",
      "note: Some details are omitted, run with `RUST_BACKTRACE=full` for a verbose backtrace.\n"
     ]
    }
   ],
   "source": [
    "use std::fs::File;\n",
    "use std::io::{BufRead, BufReader};\n",
    "\n",
    "\n",
    "let file = File::open(\"non_existent_file.txt\");\n",
    "let file = match file {\n",
    "    Ok(file) => file,\n",
    "    Err(error) => {\n",
    "        match error.kind() {\n",
    "            std::io::ErrorKind::NotFound => {\n",
    "                panic!(\"File not found: {}\", error)\n",
    "            }\n",
    "            _ => {\n",
    "                panic!(\"Error opening file: {}\", error)\n",
    "            }\n",
    "        }\n",
    "    }\n",
    "};\n"
   ]
  },
  {
   "cell_type": "code",
   "execution_count": null,
   "metadata": {
    "vscode": {
     "languageId": "rust"
    }
   },
   "outputs": [],
   "source": []
  }
 ],
 "metadata": {
  "kernelspec": {
   "display_name": "Rust",
   "language": "rust",
   "name": "rust"
  },
  "language_info": {
   "codemirror_mode": "rust",
   "file_extension": ".rs",
   "mimetype": "text/rust",
   "name": "Rust",
   "pygment_lexer": "rust",
   "version": ""
  }
 },
 "nbformat": 4,
 "nbformat_minor": 2
}
